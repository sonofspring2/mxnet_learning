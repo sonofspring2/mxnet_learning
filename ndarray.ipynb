{
 "cells": [
  {
   "cell_type": "code",
   "execution_count": 14,
   "metadata": {
    "collapsed": false,
    "deletable": true,
    "editable": true
   },
   "outputs": [],
   "source": [
    "import sys,os\n",
    "import mxnet as mx\n",
    "# sys.path"
   ]
  },
  {
   "cell_type": "code",
   "execution_count": 17,
   "metadata": {
    "collapsed": false,
    "deletable": true,
    "editable": true
   },
   "outputs": [
    {
     "data": {
      "text/plain": [
       "{'a.shape': (3L,), 'b.shape': (2L, 3L), 'b_shape_0': 2L, 'b_shape_1': 3L}"
      ]
     },
     "execution_count": 17,
     "metadata": {},
     "output_type": "execute_result"
    }
   ],
   "source": [
    "# array creation\n",
    "a = mx.nd.array([1,2,3])\n",
    "b = mx.nd.array([[1,2,3],[4,5,6]])\n",
    "{'a.shape':a.shape,'b.shape':b.shape,'b_shape_0':b.shape[0],'b_shape_1':b.shape[1]}\n",
    "# {'a.shape_0':a.shape[0]}"
   ]
  },
  {
   "cell_type": "code",
   "execution_count": 20,
   "metadata": {
    "collapsed": false,
    "deletable": true,
    "editable": true
   },
   "outputs": [
    {
     "name": "stdout",
     "output_type": "stream",
     "text": [
      "<NDArray 3x5 @cpu(0)>\n"
     ]
    },
    {
     "data": {
      "text/plain": [
       "{'a.shape': (3L, 5L)}"
      ]
     },
     "execution_count": 20,
     "metadata": {},
     "output_type": "execute_result"
    }
   ],
   "source": [
    "import numpy as np\n",
    "import math\n",
    "c = np.arange(15).reshape(3,5)\n",
    "# create a 2-dimensinal array from a numpy.ndarray object\n",
    "a =mx.nd.array(c)\n",
    "print a\n",
    "{'a.shape':a.shape}"
   ]
  },
  {
   "cell_type": "code",
   "execution_count": 28,
   "metadata": {
    "collapsed": false
   },
   "outputs": [
    {
     "data": {
      "text/plain": [
       "{'a.dtype': numpy.float32, 'b.dtype': numpy.int32, 'c.dtype': numpy.float16}"
      ]
     },
     "execution_count": 28,
     "metadata": {},
     "output_type": "execute_result"
    }
   ],
   "source": [
    "# float32 is used in deafult \n",
    "a = mx.nd.array([1,2,3])\n",
    "# create a int array\n",
    "b = mx.nd.array([1,2,3],dtype=np.int32)\n",
    "# create a 16-bit float array\n",
    "c = mx.nd.array([1,2,3],dtype=np.float16)\n",
    "# {'a.shape':a.shape,'b.shape':b.shape,'c.shape':c.shape}\n",
    "{'a.dtype':a.dtype,'b.dtype':b.dtype,'c.dtype':c.dtype}"
   ]
  },
  {
   "cell_type": "code",
   "execution_count": 29,
   "metadata": {
    "collapsed": true
   },
   "outputs": [],
   "source": [
    "# create zeros; \n",
    "a = mx.nd.zeros((2,3))\n",
    "# create ones; \n",
    "b = mx.nd.ones((2,3))\n",
    "# create full element with 7\n",
    "c = mx.nd.full((2,3),7)\n",
    "# create initial content is random , which depands on the memory state \n",
    "d = mx.nd.empty((2,3))"
   ]
  },
  {
   "cell_type": "code",
   "execution_count": 33,
   "metadata": {
    "collapsed": false
   },
   "outputs": [
    {
     "data": {
      "text/plain": [
       "array([[ 1.,  1.,  1.],\n",
       "       [ 1.,  1.,  1.]], dtype=float32)"
      ]
     },
     "execution_count": 33,
     "metadata": {},
     "output_type": "execute_result"
    }
   ],
   "source": [
    "#convert NDArray to numpy.ndarray by function asnumpy for printing\n",
    "b = mx.nd.ones((2,3))\n",
    "b.asnumpy()"
   ]
  },
  {
   "cell_type": "code",
   "execution_count": 43,
   "metadata": {
    "collapsed": false
   },
   "outputs": [
    {
     "name": "stdout",
     "output_type": "stream",
     "text": [
      "[[-0.7568025 -0.7568025]\n",
      " [-0.7568025 -0.7568025]\n",
      " [-0.7568025 -0.7568025]]\n"
     ]
    }
   ],
   "source": [
    "a = mx.nd.ones((2,3))\n",
    "b = mx.nd.ones((2,3))\n",
    "# elementwise plus\n",
    "c = a + b\n",
    "# elementwise minus\n",
    "d = -c\n",
    "# elementwise power and sin, and then transpose\n",
    "e = mx.nd.sin(c**2).T\n",
    "# elementwise max\n",
    "f = mx.nd.maximum(a,c)\n",
    "print e.asnumpy()\n"
   ]
  },
  {
   "cell_type": "code",
   "execution_count": 50,
   "metadata": {
    "collapsed": false
   },
   "outputs": [
    {
     "name": "stdout",
     "output_type": "stream",
     "text": [
      "b =  [[ 1.  1.  1.]\n",
      " [ 1.  1.  1.]]\n",
      "c =  [[ 2.  2.  2.]\n",
      " [ 2.  2.  2.]\n",
      " [ 2.  2.  2.]]\n"
     ]
    },
    {
     "data": {
      "text/plain": [
       "{'b': array([[ 1.,  1.,  1.],\n",
       "        [ 1.,  1.,  1.]], dtype=float32), 'c': array([[ 2.,  2.,  2.],\n",
       "        [ 2.,  2.,  2.],\n",
       "        [ 2.,  2.,  2.]], dtype=float32)}"
      ]
     },
     "execution_count": 50,
     "metadata": {},
     "output_type": "execute_result"
    }
   ],
   "source": [
    "# * is for elemmentwise multiply, matrix-matrix multiplication is by dot\n",
    "a = mx.nd.ones((2,3))\n",
    "b = a*a \n",
    "print 'b = ', b.asnumpy()\n",
    "c = mx.nd.dot(a.T,a)\n",
    "print 'c = ',c.asnumpy()\n",
    "\n",
    "{'b':b.asnumpy(),'c':c.asnumpy()}"
   ]
  },
  {
   "cell_type": "code",
   "execution_count": 65,
   "metadata": {
    "collapsed": false
   },
   "outputs": [
    {
     "name": "stdout",
     "output_type": "stream",
     "text": [
      "[[ 0.  1.]\n",
      " [ 2.  3.]\n",
      " [ 4.  5.]]\n",
      "[[ 1.  1.]\n",
      " [ 1.  1.]\n",
      " [ 4.  5.]]\n"
     ]
    },
    {
     "data": {
      "text/plain": [
       "array([[ 1.],\n",
       "       [ 1.],\n",
       "       [ 5.]], dtype=float32)"
      ]
     },
     "execution_count": 65,
     "metadata": {},
     "output_type": "execute_result"
    }
   ],
   "source": [
    "# Index and Slicing\n",
    "# [] applies on axis 0\n",
    "a = mx.nd.array(np.arange(6).reshape(3,2))\n",
    "print a.asnumpy()\n",
    "a[0:2] = 1\n",
    "print a.asnumpy()\n",
    "# use slice_axis\n",
    "\n",
    "d = mx.nd.slice_axis(a,axis=1,begin=1,end=2)\n",
    "d.asnumpy()"
   ]
  },
  {
   "cell_type": "code",
   "execution_count": 68,
   "metadata": {
    "collapsed": false
   },
   "outputs": [
    {
     "name": "stdout",
     "output_type": "stream",
     "text": [
      "a =  [  0.   1.   2.   3.   4.   5.   6.   7.   8.   9.  10.  11.  12.  13.  14.\n",
      "  15.  16.  17.  18.  19.  20.  21.  22.  23.]\n",
      "b =  [[[  0.   1.   2.   3.]\n",
      "  [  4.   5.   6.   7.]\n",
      "  [  8.   9.  10.  11.]]\n",
      "\n",
      " [[ 12.  13.  14.  15.]\n",
      "  [ 16.  17.  18.  19.]\n",
      "  [ 20.  21.  22.  23.]]]\n"
     ]
    }
   ],
   "source": [
    "a = mx.nd.array(np.arange(24))\n",
    "print 'a = ',a.asnumpy()\n",
    "b = a.reshape((2,3,4))\n",
    "print 'b = ',b.asnumpy()\n"
   ]
  },
  {
   "cell_type": "code",
   "execution_count": 71,
   "metadata": {
    "collapsed": false
   },
   "outputs": [
    {
     "name": "stdout",
     "output_type": "stream",
     "text": [
      "a =  [[ 1.  1.  1.]\n",
      " [ 1.  1.  1.]]\n",
      "b =  [ 6.]\n"
     ]
    }
   ],
   "source": [
    "# reduce \n",
    "a = mx.nd.ones((2,3))\n",
    "b = mx.nd.sum(a)\n",
    "print 'a = ',a.asnumpy()\n",
    "print 'b = ',b.asnumpy()"
   ]
  },
  {
   "cell_type": "code",
   "execution_count": 73,
   "metadata": {
    "collapsed": false
   },
   "outputs": [
    {
     "name": "stdout",
     "output_type": "stream",
     "text": [
      "c =  [ 2.  2.  2.]\n",
      "d =  [ 3.  3.]\n"
     ]
    }
   ],
   "source": [
    "c = mx.nd.sum(a,axis = 0)\n",
    "d = mx.nd.sum(a,axis = 1)\n",
    "\n",
    "print 'c = ',c.asnumpy()\n",
    "print 'd = ',d.asnumpy()"
   ]
  },
  {
   "cell_type": "code",
   "execution_count": 76,
   "metadata": {
    "collapsed": false
   },
   "outputs": [
    {
     "name": "stdout",
     "output_type": "stream",
     "text": [
      "a =  [[ 0.]\n",
      " [ 1.]\n",
      " [ 2.]\n",
      " [ 3.]\n",
      " [ 4.]\n",
      " [ 5.]]\n",
      "b =  [[ 0.  0.]\n",
      " [ 1.  1.]\n",
      " [ 2.  2.]\n",
      " [ 3.  3.]\n",
      " [ 4.  4.]\n",
      " [ 5.  5.]]\n",
      "c =  [[[[ 0.  1.  2.]]]\n",
      "\n",
      "\n",
      " [[[ 3.  4.  5.]]]]\n",
      "d =  [[[[ 0.  1.  2.]\n",
      "   [ 0.  1.  2.]]\n",
      "\n",
      "  [[ 0.  1.  2.]\n",
      "   [ 0.  1.  2.]]]\n",
      "\n",
      "\n",
      " [[[ 3.  4.  5.]\n",
      "   [ 3.  4.  5.]]\n",
      "\n",
      "  [[ 3.  4.  5.]\n",
      "   [ 3.  4.  5.]]]]\n"
     ]
    }
   ],
   "source": [
    "#broadcast \n",
    "a = mx.nd.array(np.arange(6).reshape(6,1))\n",
    "print 'a = ',a.asnumpy()\n",
    "b = a.broadcast_to((6,2))\n",
    "print 'b = ',b.asnumpy()\n",
    "\n",
    "c = a.reshape((2,1,1,3))\n",
    "print 'c = ',c.asnumpy()\n",
    "\n",
    "d = c.broadcast_to((2,2,2,3))\n",
    "print 'd = ',d.asnumpy()"
   ]
  },
  {
   "cell_type": "code",
   "execution_count": 89,
   "metadata": {
    "collapsed": false
   },
   "outputs": [
    {
     "name": "stdout",
     "output_type": "stream",
     "text": [
      "c=  [[ 2.  2.]\n",
      " [ 2.  2.]\n",
      " [ 2.  2.]]\n",
      "<NDArray 1x2 @cpu(0)>\n"
     ]
    }
   ],
   "source": [
    "#broadcast can be applied by * and + \n",
    "a = mx.nd.ones((3,2))\n",
    "b = mx.nd.ones((1,2))\n",
    "c = a + b\n",
    "print 'c= ', c.asnumpy()\n",
    "print b[0:1]"
   ]
  },
  {
   "cell_type": "code",
   "execution_count": 104,
   "metadata": {
    "collapsed": false
   },
   "outputs": [
    {
     "name": "stdout",
     "output_type": "stream",
     "text": [
      " b is the same reference..\n"
     ]
    }
   ],
   "source": [
    "# copy and reference\n",
    "a = mx.nd.ones((2,2))\n",
    "b = a \n",
    "if (b is a):\n",
    "    print \" b is the same reference..\"\n",
    "\n",
    "# copy() is a deep copy method\n",
    "b2 = a.copy()\n",
    "if (b2 is a):\n",
    "    print \" b2 is the same reference..\"\n",
    "    "
   ]
  },
  {
   "cell_type": "code",
   "execution_count": 109,
   "metadata": {
    "collapsed": false,
    "scrolled": true
   },
   "outputs": [
    {
     "name": "stdout",
     "output_type": "stream",
     "text": [
      "True\n",
      "{'c': array([[ 0.,  0.],\n",
      "       [ 0.,  0.]], dtype=float32), 'b': array([[ 0.,  0.],\n",
      "       [ 0.,  0.]], dtype=float32)}\n"
     ]
    }
   ],
   "source": [
    "b = mx.nd.ones(a.shape)\n",
    "c = b\n",
    "c[:]  = mx.nd.zeros(b.shape)\n",
    "print (c is b)\n",
    "print {'b':b.asnumpy(),'c':b.asnumpy()}"
   ]
  },
  {
   "cell_type": "markdown",
   "metadata": {},
   "source": [
    "#### Serialize From/To (Distributed) Filesystem\n",
    "There are two ways to save/load data from disks. First is to use **pickle**"
   ]
  },
  {
   "cell_type": "code",
   "execution_count": 112,
   "metadata": {
    "collapsed": false
   },
   "outputs": [
    {
     "data": {
      "text/plain": [
       "array([[ 1.,  1.,  1.],\n",
       "       [ 1.,  1.,  1.]], dtype=float32)"
      ]
     },
     "execution_count": 112,
     "metadata": {},
     "output_type": "execute_result"
    }
   ],
   "source": [
    "import pickle as pkl \n",
    "a = mx.nd.ones((2,3))\n",
    "# pack and then dump into disk\n",
    "data = pkl.dumps(a)\n",
    "pkl.dump(data,open('tmp.pickle','wb'))\n",
    "# load from disk and then unpack\n",
    "data = pkl.load(open('tmp.pickle','rb'))\n",
    "b = pkl.loads(data)\n",
    "b.asnumpy()"
   ]
  },
  {
   "cell_type": "markdown",
   "metadata": {},
   "source": [
    "Second is to use **save** and **load** method, we can even save *list* and *dict*"
   ]
  },
  {
   "cell_type": "code",
   "execution_count": 116,
   "metadata": {
    "collapsed": false
   },
   "outputs": [
    {
     "name": "stdout",
     "output_type": "stream",
     "text": [
      "c =  [<NDArray 2x3 @cpu(0)>, <NDArray 5x6 @cpu(0)>]\n"
     ]
    }
   ],
   "source": [
    "a = mx.nd.ones((2,3))\n",
    "b = mx.nd.ones((5,6))\n",
    "mx.nd.save('temp.ndarray',[a,b])\n",
    "c = mx.nd.load('temp.ndarray')\n",
    "print 'c = ',c"
   ]
  },
  {
   "cell_type": "code",
   "execution_count": null,
   "metadata": {
    "collapsed": true
   },
   "outputs": [],
   "source": []
  }
 ],
 "metadata": {
  "kernelspec": {
   "display_name": "Python 2",
   "language": "python",
   "name": "python2"
  },
  "language_info": {
   "codemirror_mode": {
    "name": "ipython",
    "version": 2
   },
   "file_extension": ".py",
   "mimetype": "text/x-python",
   "name": "python",
   "nbconvert_exporter": "python",
   "pygments_lexer": "ipython2",
   "version": "2.7.12"
  }
 },
 "nbformat": 4,
 "nbformat_minor": 2
}
