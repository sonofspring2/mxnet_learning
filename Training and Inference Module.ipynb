{
 "cells": [
  {
   "cell_type": "markdown",
   "metadata": {},
   "source": [
    "### 3. Training and Inference Module"
   ]
  },
  {
   "cell_type": "markdown",
   "metadata": {},
   "source": [
    "#### 1. Basic Usage\n",
    "        In this tutorial, we will use a simple multilayer perception for 10 classes and a synthetic dataset. "
   ]
  },
  {
   "cell_type": "code",
   "execution_count": 1,
   "metadata": {
    "collapsed": false
   },
   "outputs": [],
   "source": [
    "import sys,os\n",
    "sys.path.append('/data/guest_users/mingdai/faster-rcnn')\n",
    "import mxnet as mx \n"
   ]
  },
  {
   "cell_type": "code",
   "execution_count": 2,
   "metadata": {
    "collapsed": false
   },
   "outputs": [],
   "source": [
    "from data_iter import SyntheticData"
   ]
  },
  {
   "cell_type": "code",
   "execution_count": 3,
   "metadata": {
    "collapsed": true
   },
   "outputs": [],
   "source": [
    "#mlp \n",
    "net = mx.symbol.Variable('data')\n",
    "net = mx.sym.FullyConnected(net,name = 'fc1', num_hidden=64)\n",
    "net = mx.sym.Activation(net,name = 'relu1',act_type =\"relu\")\n",
    "net = mx.sym.FullyConnected(net,name='fc2',num_hidden = 10)\n",
    "net = mx.sym.SoftmaxOutput(net,name='softmax')\n",
    "\n",
    "# synthetic 10 classes dataset with 128 dimension \n",
    "data = SyntheticData(10,128)\n"
   ]
  },
  {
   "cell_type": "code",
   "execution_count": null,
   "metadata": {
    "collapsed": true
   },
   "outputs": [],
   "source": []
  }
 ],
 "metadata": {
  "kernelspec": {
   "display_name": "Python 2",
   "language": "python",
   "name": "python2"
  },
  "language_info": {
   "codemirror_mode": {
    "name": "ipython",
    "version": 2
   },
   "file_extension": ".py",
   "mimetype": "text/x-python",
   "name": "python",
   "nbconvert_exporter": "python",
   "pygments_lexer": "ipython2",
   "version": "2.7.12"
  }
 },
 "nbformat": 4,
 "nbformat_minor": 2
}
