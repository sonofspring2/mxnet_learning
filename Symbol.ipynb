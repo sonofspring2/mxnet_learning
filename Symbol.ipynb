{
 "cells": [
  {
   "cell_type": "markdown",
   "metadata": {},
   "source": [
    "### Usage of Symbol in MXNET"
   ]
  },
  {
   "cell_type": "markdown",
   "metadata": {},
   "source": [
    "### basic operators"
   ]
  },
  {
   "cell_type": "code",
   "execution_count": 8,
   "metadata": {
    "collapsed": false
   },
   "outputs": [],
   "source": [
    "import sys,os\n",
    "sys.path.append('/data/guest_users/mingdai/faster-rcnn')\n",
    "import mxnet as mx "
   ]
  },
  {
   "cell_type": "code",
   "execution_count": 10,
   "metadata": {
    "collapsed": false
   },
   "outputs": [
    {
     "data": {
      "text/plain": [
       "(<Symbol a>, <Symbol b>, <Symbol _plus1>)"
      ]
     },
     "execution_count": 10,
     "metadata": {},
     "output_type": "execute_result"
    }
   ],
   "source": [
    "a = mx.sym.Variable('a')\n",
    "b = mx.sym.Variable('b')\n",
    "c = a + b\n",
    "(a,b,c)\n",
    "# here there will be automatically symbol for c "
   ]
  },
  {
   "cell_type": "markdown",
   "metadata": {},
   "source": [
    "Most **NDArray** operators can be applied to **Symbol**, for example:"
   ]
  },
  {
   "cell_type": "code",
   "execution_count": 15,
   "metadata": {
    "collapsed": false
   },
   "outputs": [
    {
     "ename": "ImportError",
     "evalue": "Draw network requires graphviz library",
     "output_type": "error",
     "traceback": [
      "\u001b[0;31m---------------------------------------------------------------------------\u001b[0m",
      "\u001b[0;31mImportError\u001b[0m                               Traceback (most recent call last)",
      "\u001b[0;32m<ipython-input-15-0dc89659685a>\u001b[0m in \u001b[0;36m<module>\u001b[0;34m()\u001b[0m\n\u001b[1;32m      7\u001b[0m \u001b[0mf\u001b[0m \u001b[0;34m=\u001b[0m \u001b[0mmx\u001b[0m\u001b[0;34m.\u001b[0m\u001b[0msym\u001b[0m\u001b[0;34m.\u001b[0m\u001b[0mReshape\u001b[0m\u001b[0;34m(\u001b[0m\u001b[0md\u001b[0m\u001b[0;34m+\u001b[0m\u001b[0me\u001b[0m\u001b[0;34m,\u001b[0m\u001b[0mshape\u001b[0m\u001b[0;34m=\u001b[0m\u001b[0;34m(\u001b[0m\u001b[0;36m1\u001b[0m\u001b[0;34m,\u001b[0m\u001b[0;36m4\u001b[0m\u001b[0;34m)\u001b[0m\u001b[0;34m)\u001b[0m\u001b[0;34m\u001b[0m\u001b[0m\n\u001b[1;32m      8\u001b[0m \u001b[0mg\u001b[0m \u001b[0;34m=\u001b[0m \u001b[0mmx\u001b[0m\u001b[0;34m.\u001b[0m\u001b[0msym\u001b[0m\u001b[0;34m.\u001b[0m\u001b[0mbroadcast_to\u001b[0m\u001b[0;34m(\u001b[0m\u001b[0mf\u001b[0m\u001b[0;34m,\u001b[0m\u001b[0mshape\u001b[0m\u001b[0;34m=\u001b[0m\u001b[0;34m(\u001b[0m\u001b[0;36m2\u001b[0m\u001b[0;34m,\u001b[0m\u001b[0;36m4\u001b[0m\u001b[0;34m)\u001b[0m\u001b[0;34m)\u001b[0m\u001b[0;34m\u001b[0m\u001b[0m\n\u001b[0;32m----> 9\u001b[0;31m \u001b[0mmx\u001b[0m\u001b[0;34m.\u001b[0m\u001b[0mviz\u001b[0m\u001b[0;34m.\u001b[0m\u001b[0mplot_network\u001b[0m\u001b[0;34m(\u001b[0m\u001b[0msymbol\u001b[0m \u001b[0;34m=\u001b[0m \u001b[0mg\u001b[0m\u001b[0;34m)\u001b[0m\u001b[0;34m\u001b[0m\u001b[0m\n\u001b[0m",
      "\u001b[0;32m/data/guest_users/mingdai/faster-rcnn/mxnet/visualization.pyc\u001b[0m in \u001b[0;36mplot_network\u001b[0;34m(symbol, title, save_format, shape, node_attrs, hide_weights)\u001b[0m\n\u001b[1;32m    197\u001b[0m         \u001b[0;32mfrom\u001b[0m \u001b[0mgraphviz\u001b[0m \u001b[0;32mimport\u001b[0m \u001b[0mDigraph\u001b[0m\u001b[0;34m\u001b[0m\u001b[0m\n\u001b[1;32m    198\u001b[0m     \u001b[0;32mexcept\u001b[0m\u001b[0;34m:\u001b[0m\u001b[0;34m\u001b[0m\u001b[0m\n\u001b[0;32m--> 199\u001b[0;31m         \u001b[0;32mraise\u001b[0m \u001b[0mImportError\u001b[0m\u001b[0;34m(\u001b[0m\u001b[0;34m\"Draw network requires graphviz library\"\u001b[0m\u001b[0;34m)\u001b[0m\u001b[0;34m\u001b[0m\u001b[0m\n\u001b[0m\u001b[1;32m    200\u001b[0m     \u001b[0;32mif\u001b[0m \u001b[0;32mnot\u001b[0m \u001b[0misinstance\u001b[0m\u001b[0;34m(\u001b[0m\u001b[0msymbol\u001b[0m\u001b[0;34m,\u001b[0m \u001b[0mSymbol\u001b[0m\u001b[0;34m)\u001b[0m\u001b[0;34m:\u001b[0m\u001b[0;34m\u001b[0m\u001b[0m\n\u001b[1;32m    201\u001b[0m         \u001b[0;32mraise\u001b[0m \u001b[0mTypeError\u001b[0m\u001b[0;34m(\u001b[0m\u001b[0;34m\"symbol must be Symbol\"\u001b[0m\u001b[0;34m)\u001b[0m\u001b[0;34m\u001b[0m\u001b[0m\n",
      "\u001b[0;31mImportError\u001b[0m: Draw network requires graphviz library"
     ]
    }
   ],
   "source": [
    "# elementwise times\n",
    "d = a * b\n",
    "# dot, matrix mulitiplication\n",
    "e = mx.sym.dot(a,b)\n",
    "(d,e)\n",
    "# reshape \n",
    "f = mx.sym.Reshape(d+e,shape=(1,4))\n",
    "g = mx.sym.broadcast_to(f,shape=(2,4))\n",
    "# mx.viz.plot_network(symbol = g)"
   ]
  },
  {
   "cell_type": "code",
   "execution_count": 18,
   "metadata": {
    "collapsed": true
   },
   "outputs": [],
   "source": [
    "net = mx.sym.Variable('data')\n",
    "net = mx.sym.FullyConnected(data = net, name = 'fc1', num_hidden=128)\n",
    "net = mx.sym.Activation(data = net, name= 'relu1',act_type = 'relu')\n",
    "net = mx.sym.FullyConnected(data = net, name = 'fc2',num_hidden = 10)\n",
    "net = mx.sym.SoftmaxOutput(data = net, name='out')\n"
   ]
  },
  {
   "cell_type": "markdown",
   "metadata": {},
   "source": [
    "##### modulelized Construction for Deep Networks"
   ]
  },
  {
   "cell_type": "code",
   "execution_count": null,
   "metadata": {
    "collapsed": false
   },
   "outputs": [],
   "source": [
    "def ConvFactory(data, num_filter, kernel, stride=(1,1),pad = (0,0),name =None, suffix=''):\n",
    "    conv = mx.symbol.Convolution(data = data,num_filter = num_filter, kernel = kernel, stride = stride, pad = pad, \n",
    "                                 name = 'con_%s%s'%(name,suffix))\n",
    "    bn = mx.symbol.BatchNorm(data = conv, name = 'bn_%s%s'%(name,suffix))\n",
    "    act = mx.symbol.Activation(data = bn, act_type='relu', name = 'relu%s%s'%(name,suffix))\n",
    "    return act\n",
    "prev = mx.symbol.Variable(name = 'Previous Output')\n",
    "conv_comp = ConvFactory(data = prev, num_filter=64, kernel = (7,7), stride = (2,2))\n",
    "shape = {\"Previous Output\": (128,3,28,28)}"
   ]
  },
  {
   "cell_type": "markdown",
   "metadata": {
    "collapsed": true,
    "deletable": true,
    "editable": true
   },
   "source": [
    "Then we can define a function that constructs an Inception module based on **ConvFactory**"
   ]
  },
  {
   "cell_type": "code",
   "execution_count": 21,
   "metadata": {
    "collapsed": false
   },
   "outputs": [],
   "source": [
    "def InceptionFactoryA(data, num_1X1, num_3X3red, num_3X3, num_d3X3red, num_d3X3, pool, proj, name):\n",
    "    # 1X1 \n",
    "    c1X1 = ConvFactory(data = data, num_filter = num_1X1,kernel=(1,1),name=('%s_1X1'%name))\n",
    "    # 3X3 reduce + 3X3 \n",
    "    c3X3r = ConvFactory(data = data, num_filter = num_3X3red, kernel=(1,1),name=('%s_3X3'%name),suffix='_reduce')\n",
    "    c3X3 = ConvFactory(data = c3X3r, num_filter = num_3X3, kernel= (3,3),pad=(1,1),name=('%s_3X3'% name))\n",
    "    \n",
    "    # double 3x3 recue + double 3x3 \n",
    "    cd3x3r = ConvFactory(data=data, num_filter = num_d3X3red, kernel=(1,1),name=('%s_double_3x3'%name),suffix='_reduce')\n",
    "    cd3x3 = COnvFactory(data=cd3x3r, num_filter = num_d3x3, kernel=(3,3),pad=(1,1), name=('%s_double_3x3_1'%name))\n",
    "    \n",
    "    \n",
    "    # not finished !\n",
    "    return"
   ]
  },
  {
   "cell_type": "markdown",
   "metadata": {},
   "source": [
    "#### Shape Inference\n",
    "for each symbol, we can query its inputs(or arguments) and outputs. "
   ]
  },
  {
   "cell_type": "code",
   "execution_count": 23,
   "metadata": {
    "collapsed": false
   },
   "outputs": [
    {
     "data": {
      "text/plain": [
       "{'input': {'a': (2L, 3L), 'b': (2L, 3L)},\n",
       " 'output': {'_plus1_output': (2L, 3L)}}"
      ]
     },
     "execution_count": 23,
     "metadata": {},
     "output_type": "execute_result"
    }
   ],
   "source": [
    "arg_name = c.list_arguments() # get the names of the inputs \n",
    "out_name = c.list_outputs() # get the names of the outputs\n",
    "arg_shape, out_shape, _ = c.infer_shape(a=(2,3),b=(2,3))\n",
    "\n",
    "{'input':dict(zip(arg_name,arg_shape)),'output':dict(zip(out_name,out_shape))}"
   ]
  },
  {
   "cell_type": "markdown",
   "metadata": {},
   "source": [
    "#### Bind with Data and Evaluate"
   ]
  },
  {
   "cell_type": "code",
   "execution_count": 33,
   "metadata": {
    "collapsed": false
   },
   "outputs": [
    {
     "name": "stdout",
     "output_type": "stream",
     "text": [
      "numver of outputs = 1\n",
      " the first output =\n",
      "[[ 2.  2.  2.]\n",
      " [ 2.  2.  2.]]\n"
     ]
    }
   ],
   "source": [
    "ex = c.bind(ctx=mx.cpu(),args={'a':mx.nd.ones((2,3)),\n",
    "                               'b':mx.nd.ones((2,3))})\n",
    "ex.forward()\n",
    "print 'numver of outputs = %d\\n the first output =\\n%s' %(len(ex.outputs),ex.outputs[0].asnumpy())"
   ]
  },
  {
   "cell_type": "code",
   "execution_count": 37,
   "metadata": {
    "collapsed": false
   },
   "outputs": [
    {
     "data": {
      "text/plain": [
       "array([[ 5.,  5.,  5.,  5.],\n",
       "       [ 5.,  5.,  5.,  5.],\n",
       "       [ 5.,  5.,  5.,  5.]], dtype=float32)"
      ]
     },
     "execution_count": 37,
     "metadata": {},
     "output_type": "execute_result"
    }
   ],
   "source": [
    "# with GPUs\n",
    "ex_gpu = c.bind(ctx=mx.gpu(2),args={'a':mx.nd.ones((3,4),mx.gpu(2))*2,\n",
    "                                    'b':mx.nd.ones((3,4),mx.gpu(2))*3})\n",
    "ex_gpu.forward()\n",
    "ex_gpu.outputs[0].asnumpy()"
   ]
  },
  {
   "cell_type": "markdown",
   "metadata": {},
   "source": [
    "#### Load and Save\n",
    "we can laso using *pickle* or simple *save or load* directly.  \n",
    "Here instead of binary format, Symbol uses json format, which si more readable for serialization. The **tojson** method returns the json string. "
   ]
  },
  {
   "cell_type": "code",
   "execution_count": 29,
   "metadata": {
    "collapsed": false
   },
   "outputs": [
    {
     "name": "stdout",
     "output_type": "stream",
     "text": [
      "{\n",
      "  \"nodes\": [\n",
      "    {\n",
      "      \"op\": \"null\", \n",
      "      \"name\": \"a\", \n",
      "      \"inputs\": []\n",
      "    }, \n",
      "    {\n",
      "      \"op\": \"null\", \n",
      "      \"name\": \"b\", \n",
      "      \"inputs\": []\n",
      "    }, \n",
      "    {\n",
      "      \"op\": \"elemwise_add\", \n",
      "      \"name\": \"_plus1\", \n",
      "      \"inputs\": [[0, 0, 0], [1, 0, 0]]\n",
      "    }\n",
      "  ], \n",
      "  \"arg_nodes\": [0, 1], \n",
      "  \"node_row_ptr\": [0, 1, 2, 3], \n",
      "  \"heads\": [[2, 0, 0]], \n",
      "  \"attrs\": {\"mxnet_version\": [\"int\", 904]}\n",
      "}\n"
     ]
    },
    {
     "data": {
      "text/plain": [
       "True"
      ]
     },
     "execution_count": 29,
     "metadata": {},
     "output_type": "execute_result"
    }
   ],
   "source": [
    "print(c.tojson())\n",
    "c.save('symbol-c.json')\n",
    "c2 = mx.symbol.load('symbol-c.json')\n",
    "c.tojson() == c2.tojson()"
   ]
  },
  {
   "cell_type": "markdown",
   "metadata": {},
   "source": [
    "#### Customized Symbol \n",
    "To implement an operator in Python, we just need to define the two computation methods **forward** and **backward** with several methods for querying the properties, such as *list_arguments* and *infer_shape* "
   ]
  },
  {
   "cell_type": "markdown",
   "metadata": {},
   "source": [
    "> we first create a subclass of **mx.operator.CustomOp**  and then define **forward** and **backward**"
   ]
  },
  {
   "cell_type": "code",
   "execution_count": 32,
   "metadata": {
    "collapsed": false
   },
   "outputs": [],
   "source": [
    "class Softmax(mx.operator.CustomOp):\n",
    "    def forward(self,is_train,req,in_data, out_data,aux):\n",
    "        x = in_data[0].asnumpy()\n",
    "        y = np.exp(x - x.max(axis=1).reshape((x.shape[0],1) ))\n",
    "        y /= y.sum(axis =1).reshpae((x.shape[0],1))\n",
    "        self.assign(out_data[0],req[0],mx.nd.array(y))\n",
    "    \n",
    "    def backward(self,req, out_grad, in_data, out_data, in_grad, aux):\n",
    "        l = in_data[1].asnumpy().ravel().astype(np.int)\n",
    "        y = out_data[0].asnumpy()\n",
    "        y[np.arange(l.shape[0]),l] -=1.0\n",
    "        self.assign(in_grad[0],req[0],mx.nd.array(y))\n",
    "        \n",
    "@mx.operator.register(\"softmax\")\n",
    "class SfotmaxProp(mx.operator.CustomOpProp):\n",
    "    def __init__(self):\n",
    "        # softmax is a loss layer sos we don't need the gradient input \n",
    "        # from layers above. \n",
    "        super(SoftmaxProp,self).__init__(need_top_grad=False)\n",
    "    def list_arguments(self):\n",
    "        return ['data','label']\n",
    "    def infer_shape(self,in_shape):\n",
    "        data_shape = in_shape[0]\n",
    "        lable_shape = (in_shape[0][0],)\n",
    "        output_shape = in_shape[0]\n",
    "        return [data_shape, label_shape], [output_shape],[]\n",
    "    \n",
    "    def create_operator(self, ctx,shapes, dtypes):\n",
    "        return Softmax()\n",
    "    "
   ]
  },
  {
   "cell_type": "code",
   "execution_count": null,
   "metadata": {
    "collapsed": true
   },
   "outputs": [],
   "source": []
  }
 ],
 "metadata": {
  "kernelspec": {
   "display_name": "Python 2",
   "language": "python",
   "name": "python2"
  },
  "language_info": {
   "codemirror_mode": {
    "name": "ipython",
    "version": 2
   },
   "file_extension": ".py",
   "mimetype": "text/x-python",
   "name": "python",
   "nbconvert_exporter": "python",
   "pygments_lexer": "ipython2",
   "version": "2.7.12"
  }
 },
 "nbformat": 4,
 "nbformat_minor": 2
}
